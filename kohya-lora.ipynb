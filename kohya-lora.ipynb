{
 "cells": [
  {
   "cell_type": "markdown",
   "id": "654be55c-de69-4383-84e3-ec9193894454",
   "metadata": {},
   "source": [
    "# kohya_ss"
   ]
  },
  {
   "cell_type": "markdown",
   "id": "db2100be-3bb5-4921-be74-6977dd513fe1",
   "metadata": {},
   "source": [
    "## [1] Variables and Functions\n",
    "**REQUIRED EVERY TIME YOU RUN THIS NOTEBOOK**"
   ]
  },
  {
   "cell_type": "code",
   "execution_count": null,
   "id": "c28df4c8-c7a8-4cf3-85c9-c6e4b2a67746",
   "metadata": {},
   "outputs": [],
   "source": [
    "##################################### IMPORT #######################################\n",
    "import os, sys\n",
    "import ipywidgets as widgets\n",
    "import subprocess\n",
    "from importlib.metadata import version, PackageNotFoundError\n",
    "from IPython.utils import capture\n",
    "from IPython.display import clear_output\n",
    "# import importlib\n",
    "############################ ENVIRONMENT VARIABLES ################################\n",
    "os.environ['PIP_ROOT_USER_ACTION'] = 'ignore'\n",
    "os.environ['PIP_DISABLE_PIP_VERSION_CHECK'] = '1'\n",
    "os.environ[\"PYTHONNOUSERSITE\"] = \"1\"\n",
    "########################### GLOBAL PATHS AND FUNCTION ###########################\n",
    "root = '/notebooks'\n",
    "kohya = root + '/kohya_ss'\n",
    "#################################  FUNCTION ##########################################\n",
    "\n",
    "#Git Clone\n",
    "def git_clone(repo_url, repo_name, version=None, recurse_submodules=False, quiet=False, single_branch=False):\n",
    "    clone_command = [\"git\", \"clone\", repo_url, repo_name]\n",
    "    if recurse_submodules:\n",
    "        clone_command.append(\"--recurse-submodules\")\n",
    "    if quiet:\n",
    "        clone_command.append(\"--quiet\")\n",
    "    if single_branch:\n",
    "        clone_command.append(\"--single-branch\")\n",
    "    try:\n",
    "        subprocess.run(clone_command, check=True)\n",
    "        print(f\"Successfully cloned {repo_url} into {repo_name}\")\n",
    "    except subprocess.CalledProcessError as e:\n",
    "        print(f\"Error while cloning the repository: {e}\")\n",
    "        return\n",
    "    if version:\n",
    "        try:\n",
    "            os.chdir(repo_name)\n",
    "            checkout_command = [\"git\", \"checkout\", version]\n",
    "            subprocess.run(checkout_command, check=True)\n",
    "            print(f\"Checked out version: {version}\")\n",
    "        except subprocess.CalledProcessError as e:\n",
    "            print(f\"Error while checking out the version: {e}\")\n",
    "            return\n",
    "        finally:\n",
    "            os.chdir(\"..\")\n",
    "\n",
    "#install package,if package is already exist skip install\n",
    "def install_package(package_name, version=None):\n",
    "    \"\"\"Install the package and display a message only on errors\"\"\"\n",
    "    print(f\"Checking {package_name}...\")\n",
    "    result = subprocess.run([sys.executable, \"-m\", \"pip\", \"show\", package_name.split(\"[\")[0]], capture_output=True, text=True)\n",
    "    \n",
    "    if package_name.split(\"[\")[0] in result.stdout and (version is None or f\"Version: {version}\" in result.stdout):\n",
    "        print(f\"{package_name} {version or ''} is already installed. Skipping.\")\n",
    "    else:\n",
    "        if version:\n",
    "            print(f\"Installing {package_name} {version}...\")\n",
    "            install_command = [sys.executable, \"-m\", \"pip\", \"install\", f\"{package_name}=={version}\", \"--quiet\"]\n",
    "        else:\n",
    "            print(f\"Installing {package_name}...\")\n",
    "            install_command = [sys.executable, \"-m\", \"pip\", \"install\", package_name, \"--quiet\"]\n",
    "\n",
    "        try:\n",
    "            subprocess.run(install_command, check=True, stderr=subprocess.DEVNULL)\n",
    "            print(f\"{package_name} {version or ''} installed successfully.\")\n",
    "        except subprocess.CalledProcessError as e:\n",
    "            print(f\"Error installing {package_name}: {e}\")\n",
    "\n",
    "#unzip\n",
    "def unziparchive():\n",
    "    os.chdir(f'{root}/{ziplocation}')\n",
    "    from zipfile import ZipFile\n",
    "    zf = ZipFile(f'{zipfilename}.zip', 'r') \n",
    "    zf.extractall(f'{root}/{unziplocation}')\n",
    "    zf.close()\n",
    "\n",
    "#remove outputs\n",
    "def deloutput():\n",
    "    !rm -rf /notebooks/shared-storage/outputs/*\n",
    "\n",
    "#remove trash files\n",
    "def delcash():\n",
    "    !rm -rf ~/.local/share/Trash/*\n",
    "\n",
    "#remove files\n",
    "def delfile(iwan2delete):\n",
    "    if not iwan2delete:\n",
    "        print(\"error: 'iwan2delete' is empry, Copy the path of the file or folder and paste it..\")\n",
    "        return  \n",
    "    # make sure var is not empty\n",
    "    !rm -rf /notebooks/{iwan2delete}*\n",
    "    print(f\"{iwan2delete} is deleated\")\n",
    "\n",
    "#huggingfacehfilename\n",
    "def huguploadfile():\n",
    "    from huggingface_hub import upload_file\n",
    "    upload_file(path_or_fileobj=f\"{root}/{modelpathhug}\", path_in_repo=f\"{filenamehug}\", repo_id=f\"{usernamehug}/{reponamehug}\", token=f\"{tokenhug}\")\n",
    "\n",
    "# Complete message\n",
    "def completedMessage(): \n",
    "    completed = widgets.Button(description='Completed', button_style='success', icon='check')\n",
    "    print('\\n')\n",
    "    display(completed)\n",
    "\n",
    "completedMessage()"
   ]
  },
  {
   "cell_type": "markdown",
   "id": "bbeb5304-10ab-4975-b92c-0d709302276b",
   "metadata": {},
   "source": [
    "## [2] Set up kohya_ss and install dependency"
   ]
  },
  {
   "cell_type": "markdown",
   "id": "9b79feb3-82ca-4456-9f77-f4d03af8d350",
   "metadata": {},
   "source": [
    "### 2.1-Install Kohya_ss\n",
    "**Only needs to be run once on the first installation**"
   ]
  },
  {
   "cell_type": "code",
   "execution_count": null,
   "id": "d740d2de-8a72-43a4-9d4f-2be4f1a62287",
   "metadata": {},
   "outputs": [],
   "source": [
    "print('⏳ downloading...')\n",
    "os.chdir(root)\n",
    "\n",
    "repo_url = \"https://github.com/bmaltais/kohya_ss.git\"\n",
    "repo_name = \"kohya_ss\"\n",
    "version = \"v24.1.7\"\n",
    "\n",
    "if not os.path.isdir(repo_name):\n",
    "    git_clone(repo_url, repo_name, version=version, recurse_submodules=True, quiet=True, single_branch=True)\n",
    "else:\n",
    "    print(f\"{repo_name} is already exists.\")\n",
    "\n",
    "os.chdir(root)\n",
    "completedMessage()"
   ]
  },
  {
   "cell_type": "markdown",
   "id": "59995626-529f-4630-96be-8305cb4eb339",
   "metadata": {},
   "source": [
    "### 2.2-Install Dependency\n",
    "**REQUIRED EVERY TIME YOU RUN THIS NOTEBOOK**"
   ]
  },
  {
   "cell_type": "code",
   "execution_count": null,
   "id": "fc77a04b-a937-47cc-92a0-febca7542dcf",
   "metadata": {},
   "outputs": [],
   "source": [
    "os.chdir(kohya)\n",
    "with open('requirements.txt', 'r') as file:\n",
    "    for line in file:\n",
    "        if line.strip() and not line.startswith('#'):  # skip comments\n",
    "            if '==' in line:\n",
    "                package, version = line.strip().split('==')\n",
    "                install_package(package, version)\n",
    "            else:\n",
    "                install_package(line.strip())\n",
    "\n",
    "print(\"All packages processed.\")\n",
    "os.chdir(root)\n",
    "completedMessage()"
   ]
  },
  {
   "cell_type": "markdown",
   "id": "639cbf9e-3591-4e5d-977d-d7188b1c960d",
   "metadata": {},
   "source": [
    "### 2.3-Install Tkinter and others\n",
    "**REQUIRED EVERY TIME YOU RUN THIS NOTEBOOK**"
   ]
  },
  {
   "cell_type": "code",
   "execution_count": null,
   "id": "fbc6a5ba-2f97-4a09-bf7e-a4dd989c3f43",
   "metadata": {},
   "outputs": [],
   "source": [
    "print('⏳ Installing dependencies...')\n",
    "with capture.capture_output() as cap:\n",
    "    !apt -y -q update\n",
    "    !apt-get -y -q install python3.10-tk\n",
    "    !pip install -q bitsandbytes==0.43.0\n",
    "    !pip install onnxruntime-gpu==1.18.0 --extra-index-url https://aiinfra.pkgs.visualstudio.com/PublicPackages/_packaging/onnxruntime-cuda-12/pypi/simple/\n",
    "    # !pip install -q transformers==4.36.2\n",
    "completedMessage()"
   ]
  },
  {
   "cell_type": "markdown",
   "id": "652d6a86-8bef-4804-a529-fd5a42534f31",
   "metadata": {},
   "source": [
    "## [3] Run Kohhya_ss"
   ]
  },
  {
   "cell_type": "code",
   "execution_count": null,
   "id": "d6f075c7-ef52-4970-aba9-bf0ad20459d7",
   "metadata": {
    "scrolled": true
   },
   "outputs": [],
   "source": [
    "# If you used stable diffusion webui in this session, re-run 2.2-Install Dependency cell before launch Kohya_ss\n",
    "os.chdir(kohya)\n",
    "!python kohya_gui.py --share --headless"
   ]
  },
  {
   "cell_type": "markdown",
   "id": "df7726e0-04a6-48c3-8535-5c8190ab3c1b",
   "metadata": {},
   "source": [
    "## -Other utility for training-"
   ]
  },
  {
   "cell_type": "markdown",
   "id": "8c596a07-1663-416f-bd5a-f5ce26966cc1",
   "metadata": {},
   "source": [
    "#### Create training folders"
   ]
  },
  {
   "cell_type": "code",
   "execution_count": null,
   "id": "9952b3b7-c725-4c2d-b356-d71d8b6491c0",
   "metadata": {},
   "outputs": [],
   "source": [
    "os.chdir(root)\n",
    "%mkdir -p dataset/{images,logs,outputs,regularization,zip}"
   ]
  },
  {
   "cell_type": "markdown",
   "id": "f840d409-0902-41aa-93bf-8c09fd65a5fb",
   "metadata": {},
   "source": [
    "### Create Config Toml"
   ]
  },
  {
   "cell_type": "code",
   "execution_count": null,
   "id": "5c9f80bf-b5ab-4ae5-89c4-1a161a39f09a",
   "metadata": {},
   "outputs": [],
   "source": [
    "import shutil\n",
    "import toml\n",
    "os.chdir(kohya)\n",
    "shutil.copy(\"config example.toml\", \"config.toml\")\n",
    "\n",
    "toml_file_path = 'config.toml'\n",
    "config = toml.load(toml_file_path)\n",
    "\n",
    "updates = {\n",
    "    'model': {'models_dir': '/notebooks/shared-storage/models', 'train_data_dir': '../dataset/images', 'dataset_config': '', 'save_precision': 'fp16'},\n",
    "    'folders': {'output_dir': '../dataset/outputs', 'reg_data_dir': '', 'logging_dir': ''},\n",
    "    'basic': {'max_resolution': '1024,1024', 'seed': 0},\n",
    "    'advanced': {'gradient_checkpointing': 'true', 'state_dir': '', 'vae_dir': ''}\n",
    "}\n",
    "\n",
    "for section, values in updates.items():\n",
    "    if section in config:\n",
    "        config[section].update(values)\n",
    "    else:\n",
    "        config[section] = values\n",
    "\n",
    "with open(toml_file_path, 'w') as f:\n",
    "    toml.dump(config, f)\n",
    "print(\"Your config.toml created.\")\n",
    "os.chdir(root)\n",
    "completedMessage()"
   ]
  },
  {
   "cell_type": "markdown",
   "id": "25928744-7eae-47e7-a578-0fedbcb6411f",
   "metadata": {},
   "source": [
    "#### Download file from googledrive"
   ]
  },
  {
   "cell_type": "code",
   "execution_count": null,
   "id": "ff091d02-60dc-4a9e-be6e-e6e5a2faec44",
   "metadata": {},
   "outputs": [],
   "source": [
    "!pip install gdown -q\n",
    "os.chdir(f'{root}/dataset/zip')\n",
    "!gdown \"https://drive.google.com/uc?export=download&id={change here}&confirm=t\""
   ]
  },
  {
   "cell_type": "markdown",
   "id": "ccd4d89e-920c-4300-913c-5f14e741a0bd",
   "metadata": {},
   "source": [
    "#### Unzip archives"
   ]
  },
  {
   "cell_type": "code",
   "execution_count": null,
   "id": "eb4dd496-6bf3-4375-834f-4b34bd65383d",
   "metadata": {},
   "outputs": [],
   "source": [
    "#zip location eg. ziplocation = 'dataset/zip'\n",
    "ziplocation = 'dataset/zip'\n",
    "#filename eg. if test.zip, zipfilename = 'test'\n",
    "zipfilename = 'test'\n",
    "#unzip location eg. unziplocation = 'dataset/images/test/1_test'\n",
    "unziplocation = 'dataset/images/test/1_test'\n",
    "\n",
    "unziparchive()\n",
    "os.chdir(root)\n",
    "completedMessage()"
   ]
  },
  {
   "cell_type": "markdown",
   "id": "825fcf23-8f41-4de2-9bb3-817dbf142ee0",
   "metadata": {},
   "source": [
    "### Move Loras"
   ]
  },
  {
   "cell_type": "code",
   "execution_count": null,
   "id": "87ef072d-11ac-4df5-9426-f70f4a3980e8",
   "metadata": {},
   "outputs": [],
   "source": [
    "import shutil\n",
    "new_path = shutil.move('/notebooks/dataset/outputs/test-000010.safetensors', '/notebooks/shared-storage/lora/sdxl')\n",
    "print(new_path)"
   ]
  },
  {
   "cell_type": "markdown",
   "id": "0ea04f49-b65e-42bb-ad55-513ce8210474",
   "metadata": {},
   "source": [
    "### Delete .ipynb_checkpoints in Training folders"
   ]
  },
  {
   "cell_type": "code",
   "execution_count": null,
   "id": "bbe49f08-33c1-49ef-9ad3-bf6ce15f4818",
   "metadata": {},
   "outputs": [],
   "source": [
    "#Delete ipynb_checkpoints, because they are misrecognized during training.\n",
    "os.chdir(f'{root}/dataset')\n",
    "!rm -rf `find -type d -name .ipynb_checkpoints`\n",
    "os.chdir(root)\n",
    "completedMessage()"
   ]
  },
  {
   "cell_type": "markdown",
   "id": "dec53ac7-6fad-4839-b257-c73cba0b1a1c",
   "metadata": {},
   "source": [
    "# -Oher function-"
   ]
  },
  {
   "cell_type": "markdown",
   "id": "76501f7b-99ce-47d4-a8af-50a4d8e190d6",
   "metadata": {},
   "source": [
    "### Delete Webui outputs"
   ]
  },
  {
   "cell_type": "code",
   "execution_count": null,
   "id": "8d43260f-28d5-481d-b071-eb0e67254d3e",
   "metadata": {},
   "outputs": [],
   "source": [
    "deloutput()\n",
    "os.chdir(root)\n",
    "completedMessage()"
   ]
  },
  {
   "cell_type": "markdown",
   "id": "7c9a7135-1dfb-4874-84de-4c5a89301b59",
   "metadata": {},
   "source": [
    "### Delete trash files"
   ]
  },
  {
   "cell_type": "code",
   "execution_count": null,
   "id": "42ac3095-5c20-40ee-a301-3ec2bb6b2ed7",
   "metadata": {},
   "outputs": [],
   "source": [
    "delcash()\n",
    "os.chdir(root)\n",
    "completedMessage()"
   ]
  },
  {
   "cell_type": "markdown",
   "id": "d3ab25da-0989-4e62-bc62-191262d6f193",
   "metadata": {},
   "source": [
    "### Delete File or Folder"
   ]
  },
  {
   "cell_type": "code",
   "execution_count": null,
   "id": "1948bfcb-6704-41b6-80a7-8ad4cf59634c",
   "metadata": {},
   "outputs": [],
   "source": [
    "# copy and past path\n",
    "iwan2delete = 'here'\n",
    "delfile(iwan2delete)\n",
    "os.chdir(root)\n",
    "completedMessage()"
   ]
  },
  {
   "cell_type": "markdown",
   "id": "6abc0c25-f694-4366-a3f4-738eee1151cd",
   "metadata": {},
   "source": [
    "## Upload merged models etc. to Huggingface"
   ]
  },
  {
   "cell_type": "code",
   "execution_count": null,
   "id": "2dbb22be-d027-4ef3-b6a4-cfe699f36daa",
   "metadata": {},
   "outputs": [],
   "source": [
    "modelpathhug = 'shared-storage/models/sdxl/test.safetensors'\n",
    "filenamehug = 'test.safetensors'\n",
    "usernamehug = 'yourname'\n",
    "reponamehug = 'yourrepo'\n",
    "tokenhug = 'hf_yourtoken'\n",
    "huguploadfile()\n",
    "completedMessage()"
   ]
  }
 ],
 "metadata": {
  "kernelspec": {
   "display_name": "Python 3 (ipykernel)",
   "language": "python",
   "name": "python3"
  },
  "language_info": {
   "codemirror_mode": {
    "name": "ipython",
    "version": 3
   },
   "file_extension": ".py",
   "mimetype": "text/x-python",
   "name": "python",
   "nbconvert_exporter": "python",
   "pygments_lexer": "ipython3",
   "version": "3.10.12"
  }
 },
 "nbformat": 4,
 "nbformat_minor": 5
}
